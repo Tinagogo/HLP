{
 "cells": [
  {
   "cell_type": "markdown",
   "id": "bd0f7237-776f-4968-8b8a-ee5af6b06d6c",
   "metadata": {
    "tags": []
   },
   "source": [
    "# Introduction\n",
    "\n",
    "Dynamic Models\n",
    "\n",
    "- Clients: credit history starting before -2*m and ending at 0\n",
    "- Features: concat static and dynamic information\n",
    "- Dynamic Features: status count in previous months `(-2*m, -m)`\n",
    "- Label: default in the most recent m months `(-m+1, 0)`\n",
    "    - label 1: Choose IDs that overdue more than 30 days\n",
    "    - label 0: Others"
   ]
  },
  {
   "cell_type": "code",
   "execution_count": 1,
   "id": "33e10e33-01f1-4897-83db-c4fe7d164c2d",
   "metadata": {},
   "outputs": [],
   "source": [
    "import collections\n",
    "import numpy as np\n",
    "import pandas as pd\n",
    "from sklearn import preprocessing, metrics, compose, model_selection\n",
    "from sklearn.pipeline import Pipeline\n",
    "import seaborn as sns\n",
    "import matplotlib.pyplot as plt"
   ]
  },
  {
   "cell_type": "code",
   "execution_count": 2,
   "id": "b4a01e92-2c84-45f5-84e8-732b16423aad",
   "metadata": {},
   "outputs": [],
   "source": [
    "import API"
   ]
  },
  {
   "cell_type": "code",
   "execution_count": 3,
   "id": "97aa2ad0-3f01-4e54-897c-0b3edd1d131f",
   "metadata": {},
   "outputs": [
    {
     "name": "stdout",
     "output_type": "stream",
     "text": [
      "data shape (438557, 17)\n",
      "data shape after removing duplicates and setting ID (438463, 16)\n",
      "data shape after removing outliers and adding indicators (438437, 17)\n"
     ]
    },
    {
     "data": {
      "text/plain": [
       "((39231, 8), (32804,))"
      ]
     },
     "execution_count": 3,
     "metadata": {},
     "output_type": "execute_result"
    }
   ],
   "source": [
    "s_features=API.get_features()\n",
    "d_features, d_labels=API.get_dynamic_data(m=3)\n",
    "d_features.shape, d_labels.shape"
   ]
  },
  {
   "cell_type": "code",
   "execution_count": 4,
   "id": "97b0bcde-1fb3-427b-b47c-da35614a801a",
   "metadata": {},
   "outputs": [
    {
     "data": {
      "text/plain": [
       "20155"
      ]
     },
     "execution_count": 4,
     "metadata": {},
     "output_type": "execute_result"
    }
   ],
   "source": [
    "ID=s_features.index.intersection(d_features.index.intersection(d_labels.index))\n",
    "len(ID)"
   ]
  },
  {
   "cell_type": "code",
   "execution_count": 5,
   "id": "cf3499dc-5b7e-48d6-9726-2c126eb2bf6a",
   "metadata": {},
   "outputs": [
    {
     "data": {
      "text/plain": [
       "((20155, 25), (20155,))"
      ]
     },
     "execution_count": 5,
     "metadata": {},
     "output_type": "execute_result"
    }
   ],
   "source": [
    "X=pd.concat([s_features.loc[ID], d_features.loc[ID]], axis=1)\n",
    "Y=d_labels.loc[ID]\n",
    "X.shape, Y.shape"
   ]
  },
  {
   "cell_type": "code",
   "execution_count": 6,
   "id": "f7e73d0d-88e2-4d99-b378-f3f93d495239",
   "metadata": {},
   "outputs": [
    {
     "data": {
      "text/plain": [
       "CODE_GENDER             object\n",
       "FLAG_OWN_CAR            object\n",
       "FLAG_OWN_REALTY         object\n",
       "CNT_CHILDREN             int64\n",
       "AMT_INCOME_TOTAL       float64\n",
       "NAME_INCOME_TYPE        object\n",
       "NAME_EDUCATION_TYPE     object\n",
       "NAME_FAMILY_STATUS      object\n",
       "NAME_HOUSING_TYPE       object\n",
       "DAYS_BIRTH               int64\n",
       "DAYS_EMPLOYED          float64\n",
       "FLAG_WORK_PHONE          int64\n",
       "FLAG_PHONE               int64\n",
       "FLAG_EMAIL               int64\n",
       "OCCUPATION_TYPE         object\n",
       "CNT_FAM_MEMBERS        float64\n",
       "FLAG_EMPLOYED           object\n",
       "0                        int64\n",
       "1                        int64\n",
       "2                        int64\n",
       "3                        int64\n",
       "4                        int64\n",
       "5                        int64\n",
       "C                        int64\n",
       "X                        int64\n",
       "dtype: object"
      ]
     },
     "execution_count": 6,
     "metadata": {},
     "output_type": "execute_result"
    }
   ],
   "source": [
    "X.dtypes"
   ]
  },
  {
   "cell_type": "code",
   "execution_count": 7,
   "id": "502c5f12-6231-45e4-92c9-6a7ceb7c941d",
   "metadata": {},
   "outputs": [
    {
     "data": {
      "text/plain": [
       "ColumnTransformer(transformers=[('dummy', OneHotEncoder(drop='first'),\n",
       "                                 Index(['CODE_GENDER', 'FLAG_OWN_CAR', 'FLAG_OWN_REALTY', 'NAME_INCOME_TYPE',\n",
       "       'NAME_EDUCATION_TYPE', 'NAME_FAMILY_STATUS', 'NAME_HOUSING_TYPE',\n",
       "       'OCCUPATION_TYPE', 'FLAG_EMPLOYED'],\n",
       "      dtype='object')),\n",
       "                                ('ss', StandardScaler(),\n",
       "                                 Index(['0', '1', '2', '3', '4', '5', 'AMT_INCOME_TOTAL', 'C', 'CNT_CHILDREN',\n",
       "       'CNT_FAM_MEMBERS', 'DAYS_BIRTH', 'DAYS_EMPLOYED', 'FLAG_EMAIL',\n",
       "       'FLAG_PHONE', 'FLAG_WORK_PHONE', 'X'],\n",
       "      dtype='object'))])"
      ]
     },
     "execution_count": 7,
     "metadata": {},
     "output_type": "execute_result"
    }
   ],
   "source": [
    "features_categorical = X.columns[X.dtypes==object]\n",
    "features_numerical = X.columns.difference(features_categorical)\n",
    "features_transformer = compose.ColumnTransformer([\n",
    "    ('dummy', preprocessing.OneHotEncoder(drop='first'), features_categorical),\n",
    "    ('ss', preprocessing.StandardScaler(), features_numerical),\n",
    "])\n",
    "features_transformer"
   ]
  },
  {
   "cell_type": "markdown",
   "id": "ea4297d7-c1b4-469d-bf9e-962c77acbd6d",
   "metadata": {
    "tags": []
   },
   "source": [
    "# Train Test Split"
   ]
  },
  {
   "cell_type": "code",
   "execution_count": 8,
   "id": "a8abaf2d-cd06-40be-95b9-d76e34ecc8ae",
   "metadata": {},
   "outputs": [
    {
     "data": {
      "text/plain": [
       "((16124, 25), (4031, 25), 377, 90)"
      ]
     },
     "execution_count": 8,
     "metadata": {},
     "output_type": "execute_result"
    }
   ],
   "source": [
    "X_train, X_test, y_train, y_test = model_selection.train_test_split(X, Y, test_size=0.2, random_state=10)\n",
    "X_train.shape, X_test.shape, y_train.sum(), y_test.sum()"
   ]
  },
  {
   "cell_type": "code",
   "execution_count": 9,
   "id": "aac61b26-32d2-4e02-abbf-88ec2f83a437",
   "metadata": {},
   "outputs": [
    {
     "data": {
      "text/plain": [
       "False    15747\n",
       "True     15747\n",
       "Name: label, dtype: int64"
      ]
     },
     "execution_count": 9,
     "metadata": {},
     "output_type": "execute_result"
    }
   ],
   "source": [
    "rng = np.random.default_rng(1234)\n",
    "p_train=y_train.index[y_train==1] # id with positive labels\n",
    "n_train=y_train.index[y_train==0] # id with negative labels\n",
    "s_train=rng.choice(p_train, len(n_train)) # sampling with replacement from positive ids\n",
    "I_sample=n_train.union(s_train)\n",
    "X_sample=X_train.loc[I_sample]\n",
    "y_sample=y_train.loc[I_sample]\n",
    "y_sample.value_counts()"
   ]
  },
  {
   "cell_type": "code",
   "execution_count": 10,
   "id": "9fbc1a2c-557c-4c8d-8394-41ddb98e66dc",
   "metadata": {},
   "outputs": [],
   "source": [
    "Results={}"
   ]
  },
  {
   "cell_type": "markdown",
   "id": "2a2e477d-299f-44e6-a7bd-85d2c2fda2e3",
   "metadata": {
    "tags": []
   },
   "source": [
    "# Decision Tree"
   ]
  },
  {
   "cell_type": "code",
   "execution_count": 11,
   "id": "eabc4f75-f4c2-4990-9a91-e10a14614076",
   "metadata": {},
   "outputs": [
    {
     "name": "stdout",
     "output_type": "stream",
     "text": [
      "Fitting 5 folds for each of 4 candidates, totalling 20 fits\n",
      "Fitting 5 folds for each of 4 candidates, totalling 20 fits\n"
     ]
    },
    {
     "data": {
      "image/png": "[encoded data removed]",
      "text/plain": [
       "<Figure size 432x288 with 1 Axes>"
      ]
     },
     "metadata": {
      "needs_background": "light"
     },
     "output_type": "display_data"
    }
   ],
   "source": [
    "from sklearn.tree import DecisionTreeClassifier\n",
    "def decision_tree_report(X_train, y_train, name):\n",
    "    model = Pipeline([\n",
    "        ('ft', features_transformer),\n",
    "        ('model', DecisionTreeClassifier())\n",
    "    ])\n",
    "    parameters = {\n",
    "        'model__max_depth': [2,4,6,8],\n",
    "    }\n",
    "    clf = model_selection.GridSearchCV(model, parameters, scoring='roc_auc', verbose=1)\n",
    "    clf.fit(X_train, y_train)\n",
    "    res=pd.DataFrame(clf.cv_results_).fillna('None')\n",
    "    scr=metrics.roc_auc_score(y_test, clf.predict(X_test))\n",
    "    plt.errorbar(res['param_model__max_depth'], res['mean_test_score'],\n",
    "                 yerr=res['std_test_score'],\n",
    "                 label=f'{name} Testing Score {scr:.2f}',\n",
    "                )\n",
    "    plt.legend()\n",
    "    bst=res.loc[clf.best_index_]\n",
    "    return dict(cv_mean=bst['mean_test_score'], cv_std=bst['std_test_score'], test_scr=scr)\n",
    "\n",
    "Results['dt','original']=decision_tree_report(X_train, y_train, 'Original')\n",
    "Results['dt','resampled']=decision_tree_report(X_sample, y_sample, 'Resampled')"
   ]
  },
  {
   "cell_type": "markdown",
   "id": "bdf3aee5-aa50-4cff-abb0-3bd2609ed258",
   "metadata": {},
   "source": [
    "## The model performs well for both train and test dataset with the dynamic features and resampled data\n",
    "\n",
    "- both models choose `max_depth=4` and achive similar performance score\n",
    "- however model trained with original data cannot perform well for testing\n",
    "- model trained with resampled data perform well much better\n",
    "- these observations are also much better than those from static models\n",
    "- in other words, the dynamic features and predictive setting are more meaningful"
   ]
  },
  {
   "cell_type": "markdown",
   "id": "b187dd9f-c54b-4f43-a65b-b5675b530dd5",
   "metadata": {},
   "source": [
    "# Gradient Boosting"
   ]
  },
  {
   "cell_type": "code",
   "execution_count": 12,
   "id": "446d8582-7de8-4f2e-bf77-b04e18d85443",
   "metadata": {},
   "outputs": [
    {
     "name": "stdout",
     "output_type": "stream",
     "text": [
      "Fitting 5 folds for each of 12 candidates, totalling 60 fits\n",
      "Fitting 5 folds for each of 12 candidates, totalling 60 fits\n"
     ]
    },
    {
     "data": {
      "image/png": "[encoded data removed]",
      "text/plain": [
       "<Figure size 432x288 with 1 Axes>"
      ]
     },
     "metadata": {
      "needs_background": "light"
     },
     "output_type": "display_data"
    },
    {
     "data": {
      "image/png": "[encoded data removed]",
      "text/plain": [
       "<Figure size 432x288 with 1 Axes>"
      ]
     },
     "metadata": {
      "needs_background": "light"
     },
     "output_type": "display_data"
    }
   ],
   "source": [
    "from sklearn.ensemble import GradientBoostingClassifier\n",
    "def gradient_boosting_report(X_train, y_train, name):\n",
    "    model = Pipeline([\n",
    "        ('ft', features_transformer),\n",
    "        ('model', GradientBoostingClassifier())\n",
    "    ])\n",
    "    parameters = {\n",
    "        'model__n_estimators': [20, 50, 100],\n",
    "        'model__max_depth': [2, 4, 6, 8],\n",
    "    }\n",
    "    clf = model_selection.GridSearchCV(model, parameters, scoring='roc_auc', n_jobs=-1, verbose=1)\n",
    "    clf.fit(X_train, y_train)\n",
    "    res=pd.DataFrame(clf.cv_results_).fillna('None')\n",
    "    scr=metrics.roc_auc_score(y_test, clf.predict(X_test))\n",
    "    for n_estimator in parameters['model__n_estimators']:\n",
    "        res_=res[res['param_model__n_estimators']==n_estimator]\n",
    "        plt.errorbar(res_['param_model__max_depth'], res_['mean_test_score'], yerr=res_['std_test_score'],\n",
    "                     label=f'n_estimator={n_estimator}',\n",
    "                    )\n",
    "        plt.legend()\n",
    "        plt.title(f'{name} Testing Score {scr:.2f}')\n",
    "    bst=res.loc[clf.best_index_]\n",
    "    return dict(cv_mean=bst['mean_test_score'], cv_std=bst['std_test_score'], test_scr=scr)\n",
    "\n",
    "plt.figure()\n",
    "Results['gb','original']=gradient_boosting_report(X_train, y_train, 'Original')\n",
    "plt.figure()\n",
    "Results['gb','esampled']=gradient_boosting_report(X_sample, y_sample, 'Resampled')"
   ]
  },
  {
   "cell_type": "markdown",
   "id": "feb86207-8d30-4ef5-85fa-0d74f9265741",
   "metadata": {},
   "source": [
    "## Summary\n",
    "\n",
    "- GradientBoosting is more likely overfitting on the original data\n",
    "- The model performs much better for testing with the resampled data"
   ]
  },
  {
   "cell_type": "markdown",
   "id": "ef0ab953-b8f0-4d0b-ab75-e0c5c989496e",
   "metadata": {},
   "source": [
    "# Neurual Network"
   ]
  },
  {
   "cell_type": "code",
   "execution_count": 19,
   "id": "6042badf-18b6-4033-8d23-f438983b47af",
   "metadata": {},
   "outputs": [
    {
     "name": "stdout",
     "output_type": "stream",
     "text": [
      "Fitting 5 folds for each of 3 candidates, totalling 15 fits\n",
      "Fitting 5 folds for each of 3 candidates, totalling 15 fits\n"
     ]
    },
    {
     "data": {
      "image/png": "[encoded data removed]",
      "text/plain": [
       "<Figure size 432x288 with 1 Axes>"
      ]
     },
     "metadata": {
      "needs_background": "light"
     },
     "output_type": "display_data"
    }
   ],
   "source": [
    "from sklearn.neural_network import MLPClassifier\n",
    "def mlp_report(X_train, y_train, name):\n",
    "    model = Pipeline([\n",
    "        ('ft', features_transformer),\n",
    "        ('model', MLPClassifier())\n",
    "    ])\n",
    "    parameters = {\n",
    "        'model__hidden_layer_sizes': [[],[5],[10]],\n",
    "    }\n",
    "    clf = model_selection.GridSearchCV(model, parameters, scoring='roc_auc', n_jobs=-1, verbose=3)\n",
    "    clf.fit(X_train, y_train)\n",
    "    res=pd.DataFrame(clf.cv_results_).fillna('None')\n",
    "    scr=metrics.roc_auc_score(y_test, clf.predict(X_test))\n",
    "    plt.errorbar(range(len(parameters['model__hidden_layer_sizes'])), res['mean_test_score'],\n",
    "                 yerr=res['std_test_score'],\n",
    "                 label=f'{name} Testing Score {scr:.2f}',\n",
    "                )\n",
    "    plt.legend()\n",
    "    bst=res.loc[clf.best_index_]\n",
    "    return dict(cv_mean=bst['mean_test_score'], cv_std=bst['std_test_score'], test_scr=scr)\n",
    "\n",
    "Results['nn','original']=mlp_report(X_train, y_train, 'Original')\n",
    "Results['nn','resampled']=mlp_report(X_sample, y_sample, 'Resampled')"
   ]
  },
  {
   "cell_type": "markdown",
   "id": "1464a647-65c1-4052-b333-c4fff810cac9",
   "metadata": {},
   "source": [
    "## Summary\n",
    "\n",
    "- Not much better than alternatives given the limited data and model complexity\n",
    "- Note that the the models on the left of the figure is just logistic regression without any hidden layers"
   ]
  },
  {
   "cell_type": "markdown",
   "id": "7cae96e9-8c73-4b1b-8fc3-80c865b0f3ab",
   "metadata": {
    "tags": []
   },
   "source": [
    "# SVC"
   ]
  },
  {
   "cell_type": "code",
   "execution_count": 14,
   "id": "e00732c4-c481-4027-bd3e-e6647f81df4d",
   "metadata": {},
   "outputs": [],
   "source": [
    "from sklearn.svm import SVC\n",
    "def svc_report(X_train, y_train, name, n_jobs=None):\n",
    "    model = Pipeline([\n",
    "        ('ft', features_transformer),\n",
    "        ('model', SVC())\n",
    "    ])\n",
    "    parameters = {\n",
    "        'model__C': [1, 5, 10],\n",
    "        'model__kernel': ['rbf', 'linear'],\n",
    "    }\n",
    "    clf = model_selection.GridSearchCV(model, parameters, scoring='roc_auc', n_jobs=n_jobs, verbose=3)\n",
    "    clf.fit(X_train, y_train)\n",
    "    res=pd.DataFrame(clf.cv_results_).fillna('None')\n",
    "    scr=metrics.roc_auc_score(y_test, clf.predict(X_test))\n",
    "    for p in parameters['model__kernel']:\n",
    "        res_=res[res['param_model__kernel']==p]\n",
    "        plt.errorbar(res_['param_model__C'], res_['mean_test_score'], yerr=res_['std_test_score'],\n",
    "                     label=p,\n",
    "                    )\n",
    "        plt.legend()\n",
    "        plt.title(f'{name} Testing Score {scr:.2f}')\n",
    "    bst=res.loc[clf.best_index_]\n",
    "    return dict(cv_mean=bst['mean_test_score'], cv_std=bst['std_test_score'], test_scr=scr)"
   ]
  },
  {
   "cell_type": "code",
   "execution_count": 15,
   "id": "29934c06-da17-4eef-ad62-ec46921055e7",
   "metadata": {},
   "outputs": [
    {
     "name": "stdout",
     "output_type": "stream",
     "text": [
      "Fitting 5 folds for each of 6 candidates, totalling 30 fits\n",
      "[CV 1/5] END .....model__C=1, model__kernel=rbf;, score=0.854 total time=   2.4s\n",
      "[CV 2/5] END .....model__C=1, model__kernel=rbf;, score=0.857 total time=   2.5s\n",
      "[CV 3/5] END .....model__C=1, model__kernel=rbf;, score=0.885 total time=   2.5s\n",
      "[CV 4/5] END .....model__C=1, model__kernel=rbf;, score=0.869 total time=   2.5s\n",
      "[CV 5/5] END .....model__C=1, model__kernel=rbf;, score=0.880 total time=   2.6s\n",
      "[CV 1/5] END ..model__C=1, model__kernel=linear;, score=0.899 total time=   4.9s\n",
      "[CV 2/5] END ..model__C=1, model__kernel=linear;, score=0.895 total time=   2.7s\n",
      "[CV 3/5] END ..model__C=1, model__kernel=linear;, score=0.929 total time=   7.0s\n",
      "[CV 4/5] END ..model__C=1, model__kernel=linear;, score=0.896 total time=   4.1s\n",
      "[CV 5/5] END ..model__C=1, model__kernel=linear;, score=0.920 total time=   2.8s\n",
      "[CV 1/5] END .....model__C=5, model__kernel=rbf;, score=0.851 total time=   2.4s\n",
      "[CV 2/5] END .....model__C=5, model__kernel=rbf;, score=0.860 total time=   2.5s\n",
      "[CV 3/5] END .....model__C=5, model__kernel=rbf;, score=0.890 total time=   2.4s\n",
      "[CV 4/5] END .....model__C=5, model__kernel=rbf;, score=0.868 total time=   2.5s\n",
      "[CV 5/5] END .....model__C=5, model__kernel=rbf;, score=0.884 total time=   2.5s\n",
      "[CV 1/5] END ..model__C=5, model__kernel=linear;, score=0.895 total time=   9.4s\n",
      "[CV 2/5] END ..model__C=5, model__kernel=linear;, score=0.851 total time=   6.1s\n",
      "[CV 3/5] END ..model__C=5, model__kernel=linear;, score=0.826 total time=  44.2s\n",
      "[CV 4/5] END ..model__C=5, model__kernel=linear;, score=0.864 total time=   7.6s\n",
      "[CV 5/5] END ..model__C=5, model__kernel=linear;, score=0.772 total time=   9.7s\n",
      "[CV 1/5] END ....model__C=10, model__kernel=rbf;, score=0.851 total time=   2.5s\n",
      "[CV 2/5] END ....model__C=10, model__kernel=rbf;, score=0.860 total time=   2.6s\n",
      "[CV 3/5] END ....model__C=10, model__kernel=rbf;, score=0.899 total time=   2.7s\n",
      "[CV 4/5] END ....model__C=10, model__kernel=rbf;, score=0.873 total time=   2.6s\n",
      "[CV 5/5] END ....model__C=10, model__kernel=rbf;, score=0.882 total time=   2.7s\n",
      "[CV 1/5] END .model__C=10, model__kernel=linear;, score=0.892 total time=  14.2s\n",
      "[CV 2/5] END .model__C=10, model__kernel=linear;, score=0.865 total time=   9.9s\n",
      "[CV 3/5] END .model__C=10, model__kernel=linear;, score=0.925 total time=  12.7s\n",
      "[CV 4/5] END .model__C=10, model__kernel=linear;, score=0.906 total time=  17.1s\n",
      "[CV 5/5] END .model__C=10, model__kernel=linear;, score=0.912 total time=   7.0s\n"
     ]
    },
    {
     "data": {
      "image/png": "[encoded data removed]",
      "text/plain": [
       "<Figure size 432x288 with 1 Axes>"
      ]
     },
     "metadata": {
      "needs_background": "light"
     },
     "output_type": "display_data"
    }
   ],
   "source": [
    "rng = np.random.default_rng(1234)\n",
    "sub=rng.choice(len(X_train), 5000, False) # since svm is slow with large data ...\n",
    "Results['svc','original']=svc_report(X_train, y_train, 'Original')"
   ]
  },
  {
   "cell_type": "code",
   "execution_count": 17,
   "id": "e95081ed-5bea-4f62-94cc-f4c524ef8294",
   "metadata": {},
   "outputs": [
    {
     "name": "stdout",
     "output_type": "stream",
     "text": [
      "Fitting 5 folds for each of 6 candidates, totalling 30 fits\n",
      "[CV 1/5] END .....model__C=1, model__kernel=rbf;, score=0.972 total time=   4.0s\n",
      "[CV 2/5] END .....model__C=1, model__kernel=rbf;, score=0.967 total time=   3.8s\n",
      "[CV 3/5] END .....model__C=1, model__kernel=rbf;, score=0.973 total time=   3.9s\n",
      "[CV 4/5] END .....model__C=1, model__kernel=rbf;, score=0.973 total time=   3.9s\n",
      "[CV 5/5] END .....model__C=1, model__kernel=rbf;, score=0.969 total time=   4.0s\n",
      "[CV 1/5] END ..model__C=1, model__kernel=linear;, score=0.924 total time=   5.6s\n",
      "[CV 2/5] END ..model__C=1, model__kernel=linear;, score=0.913 total time=   4.7s\n",
      "[CV 3/5] END ..model__C=1, model__kernel=linear;, score=0.938 total time=   4.8s\n",
      "[CV 4/5] END ..model__C=1, model__kernel=linear;, score=0.919 total time=   5.1s\n",
      "[CV 5/5] END ..model__C=1, model__kernel=linear;, score=0.934 total time=   5.1s\n",
      "[CV 1/5] END .....model__C=5, model__kernel=rbf;, score=0.981 total time=   3.3s\n",
      "[CV 2/5] END .....model__C=5, model__kernel=rbf;, score=0.984 total time=   3.2s\n",
      "[CV 3/5] END .....model__C=5, model__kernel=rbf;, score=0.982 total time=   3.3s\n",
      "[CV 4/5] END .....model__C=5, model__kernel=rbf;, score=0.981 total time=   3.2s\n",
      "[CV 5/5] END .....model__C=5, model__kernel=rbf;, score=0.983 total time=   3.3s\n",
      "[CV 1/5] END ..model__C=5, model__kernel=linear;, score=0.928 total time=  10.0s\n",
      "[CV 2/5] END ..model__C=5, model__kernel=linear;, score=0.916 total time=  13.1s\n",
      "[CV 3/5] END ..model__C=5, model__kernel=linear;, score=0.942 total time=  10.5s\n",
      "[CV 4/5] END ..model__C=5, model__kernel=linear;, score=0.921 total time=   8.6s\n",
      "[CV 5/5] END ..model__C=5, model__kernel=linear;, score=0.936 total time=  11.6s\n",
      "[CV 1/5] END ....model__C=10, model__kernel=rbf;, score=0.985 total time=   3.0s\n",
      "[CV 2/5] END ....model__C=10, model__kernel=rbf;, score=0.988 total time=   3.0s\n",
      "[CV 3/5] END ....model__C=10, model__kernel=rbf;, score=0.986 total time=   3.0s\n",
      "[CV 4/5] END ....model__C=10, model__kernel=rbf;, score=0.985 total time=   3.1s\n",
      "[CV 5/5] END ....model__C=10, model__kernel=rbf;, score=0.985 total time=   3.2s\n",
      "[CV 1/5] END .model__C=10, model__kernel=linear;, score=0.929 total time=  16.5s\n",
      "[CV 2/5] END .model__C=10, model__kernel=linear;, score=0.916 total time=  18.6s\n",
      "[CV 3/5] END .model__C=10, model__kernel=linear;, score=0.942 total time=  17.7s\n",
      "[CV 4/5] END .model__C=10, model__kernel=linear;, score=0.920 total time=  13.6s\n",
      "[CV 5/5] END .model__C=10, model__kernel=linear;, score=0.937 total time=  19.5s\n"
     ]
    },
    {
     "data": {
      "image/png": "[encoded data removed]",
      "text/plain": [
       "<Figure size 432x288 with 1 Axes>"
      ]
     },
     "metadata": {
      "needs_background": "light"
     },
     "output_type": "display_data"
    }
   ],
   "source": [
    "rng = np.random.default_rng(1234)\n",
    "sub=rng.choice(len(X_sample), 10000, False)\n",
    "Results['svc','resampled']=svc_report(X_sample.iloc[sub], y_sample.iloc[sub], 'Resampled')"
   ]
  },
  {
   "cell_type": "markdown",
   "id": "baceece8-123a-42e6-b0d4-d92f820bc76c",
   "metadata": {},
   "source": [
    "## Summary\n",
    "\n",
    "- rbf is better and stable for both cases\n",
    "- and again, resampled data improves predicting new data\n",
    "- but overall svc does not perform as well as alternatives given the limited data and computation power"
   ]
  },
  {
   "cell_type": "markdown",
   "id": "61403072-107c-45bb-8bdd-7fcadea7cbda",
   "metadata": {},
   "source": [
    "# Conclusion"
   ]
  },
  {
   "cell_type": "code",
   "execution_count": 20,
   "id": "8b2bbdba-f901-43f5-b71c-7cebb0736453",
   "metadata": {},
   "outputs": [
    {
     "data": {
      "text/html": [
       "<div>\n",
       "<style scoped>\n",
       "    .dataframe tbody tr th:only-of-type {\n",
       "        vertical-align: middle;\n",
       "    }\n",
       "\n",
       "    .dataframe tbody tr th {\n",
       "        vertical-align: top;\n",
       "    }\n",
       "\n",
       "    .dataframe thead tr th {\n",
       "        text-align: left;\n",
       "    }\n",
       "</style>\n",
       "<table border=\"1\" class=\"dataframe\">\n",
       "  <thead>\n",
       "    <tr>\n",
       "      <th></th>\n",
       "      <th colspan=\"2\" halign=\"left\">dt</th>\n",
       "      <th colspan=\"2\" halign=\"left\">gb</th>\n",
       "      <th colspan=\"2\" halign=\"left\">nn</th>\n",
       "      <th colspan=\"2\" halign=\"left\">svc</th>\n",
       "    </tr>\n",
       "    <tr>\n",
       "      <th></th>\n",
       "      <th>original</th>\n",
       "      <th>resampled</th>\n",
       "      <th>original</th>\n",
       "      <th>esampled</th>\n",
       "      <th>original</th>\n",
       "      <th>resampled</th>\n",
       "      <th>original</th>\n",
       "      <th>resampled</th>\n",
       "    </tr>\n",
       "  </thead>\n",
       "  <tbody>\n",
       "    <tr>\n",
       "      <th>cv_mean</th>\n",
       "      <td>0.913570</td>\n",
       "      <td>0.909770</td>\n",
       "      <td>0.930398</td>\n",
       "      <td>0.929292</td>\n",
       "      <td>0.898815</td>\n",
       "      <td>0.907431</td>\n",
       "      <td>0.907862</td>\n",
       "      <td>0.985792</td>\n",
       "    </tr>\n",
       "    <tr>\n",
       "      <th>cv_std</th>\n",
       "      <td>0.008577</td>\n",
       "      <td>0.011295</td>\n",
       "      <td>0.009103</td>\n",
       "      <td>0.006544</td>\n",
       "      <td>0.010489</td>\n",
       "      <td>0.008770</td>\n",
       "      <td>0.013908</td>\n",
       "      <td>0.001348</td>\n",
       "    </tr>\n",
       "    <tr>\n",
       "      <th>test_scr</th>\n",
       "      <td>0.533080</td>\n",
       "      <td>0.844075</td>\n",
       "      <td>0.582445</td>\n",
       "      <td>0.834320</td>\n",
       "      <td>0.565525</td>\n",
       "      <td>0.804586</td>\n",
       "      <td>0.543937</td>\n",
       "      <td>0.702604</td>\n",
       "    </tr>\n",
       "  </tbody>\n",
       "</table>\n",
       "</div>"
      ],
      "text/plain": [
       "                dt                  gb                  nn            \\\n",
       "          original resampled  original  esampled  original resampled   \n",
       "cv_mean   0.913570  0.909770  0.930398  0.929292  0.898815  0.907431   \n",
       "cv_std    0.008577  0.011295  0.009103  0.006544  0.010489  0.008770   \n",
       "test_scr  0.533080  0.844075  0.582445  0.834320  0.565525  0.804586   \n",
       "\n",
       "               svc            \n",
       "          original resampled  \n",
       "cv_mean   0.907862  0.985792  \n",
       "cv_std    0.013908  0.001348  \n",
       "test_scr  0.543937  0.702604  "
      ]
     },
     "execution_count": 20,
     "metadata": {},
     "output_type": "execute_result"
    }
   ],
   "source": [
    "pd.DataFrame(Results)"
   ]
  },
  {
   "cell_type": "markdown",
   "id": "9add09f1-aeba-4c56-8afa-1ffa319b4d06",
   "metadata": {},
   "source": [
    "- The dynamic features indeed improve performance of default predicting, especially when testing new data\n",
    "- DecisionTree performs reasonablly well both with resampled and un-resampled data.\n",
    "- This might be a good choice especially interpretable models are needed. The tree can be visualized to explain predictions.\n",
    "- More dicusssions and comparisons on other models can be done similarly based on their corresponding mean and standard deviaion scores based on cross validation."
   ]
  }
 ],
 "metadata": {
  "kernelspec": {
   "display_name": "Python 3",
   "language": "python",
   "name": "python3"
  },
  "language_info": {
   "codemirror_mode": {
    "name": "ipython",
    "version": 3
   },
   "file_extension": ".py",
   "mimetype": "text/x-python",
   "name": "python",
   "nbconvert_exporter": "python",
   "pygments_lexer": "ipython3",
   "version": "3.7.3"
  }
 },
 "nbformat": 4,
 "nbformat_minor": 5
}
