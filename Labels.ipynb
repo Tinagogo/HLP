{
 "cells": [
  {
   "cell_type": "markdown",
   "id": "1968bbb1-803a-46ea-a100-a1778de09627",
   "metadata": {
    "tags": []
   },
   "source": [
    "# Introduction\n",
    "\n",
    "- This document reports some basic analysis of the credit history records\n",
    "- The purpose is to identity possible issues, preprocessing steps, and modeling insights"
   ]
  },
  {
   "cell_type": "code",
   "execution_count": 1,
   "id": "adca5ae2-49b5-401a-9593-60652f615a69",
   "metadata": {},
   "outputs": [],
   "source": [
    "import collections\n",
    "import numpy as np\n",
    "import pandas as pd\n",
    "import seaborn as sns\n",
    "from IPython import display"
   ]
  },
  {
   "cell_type": "code",
   "execution_count": 2,
   "id": "b6535953-fb6f-4369-ab5c-6c3eedf99074",
   "metadata": {},
   "outputs": [
    {
     "data": {
      "text/html": [
       "<div>\n",
       "<style scoped>\n",
       "    .dataframe tbody tr th:only-of-type {\n",
       "        vertical-align: middle;\n",
       "    }\n",
       "\n",
       "    .dataframe tbody tr th {\n",
       "        vertical-align: top;\n",
       "    }\n",
       "\n",
       "    .dataframe thead th {\n",
       "        text-align: right;\n",
       "    }\n",
       "</style>\n",
       "<table border=\"1\" class=\"dataframe\">\n",
       "  <thead>\n",
       "    <tr style=\"text-align: right;\">\n",
       "      <th></th>\n",
       "      <th>ID</th>\n",
       "      <th>MONTHS_BALANCE</th>\n",
       "      <th>STATUS</th>\n",
       "    </tr>\n",
       "  </thead>\n",
       "  <tbody>\n",
       "    <tr>\n",
       "      <th>0</th>\n",
       "      <td>5001711</td>\n",
       "      <td>0</td>\n",
       "      <td>X</td>\n",
       "    </tr>\n",
       "    <tr>\n",
       "      <th>1</th>\n",
       "      <td>5001711</td>\n",
       "      <td>-1</td>\n",
       "      <td>0</td>\n",
       "    </tr>\n",
       "    <tr>\n",
       "      <th>2</th>\n",
       "      <td>5001711</td>\n",
       "      <td>-2</td>\n",
       "      <td>0</td>\n",
       "    </tr>\n",
       "    <tr>\n",
       "      <th>3</th>\n",
       "      <td>5001711</td>\n",
       "      <td>-3</td>\n",
       "      <td>0</td>\n",
       "    </tr>\n",
       "    <tr>\n",
       "      <th>4</th>\n",
       "      <td>5001712</td>\n",
       "      <td>0</td>\n",
       "      <td>C</td>\n",
       "    </tr>\n",
       "    <tr>\n",
       "      <th>...</th>\n",
       "      <td>...</td>\n",
       "      <td>...</td>\n",
       "      <td>...</td>\n",
       "    </tr>\n",
       "    <tr>\n",
       "      <th>1048570</th>\n",
       "      <td>5150487</td>\n",
       "      <td>-25</td>\n",
       "      <td>C</td>\n",
       "    </tr>\n",
       "    <tr>\n",
       "      <th>1048571</th>\n",
       "      <td>5150487</td>\n",
       "      <td>-26</td>\n",
       "      <td>C</td>\n",
       "    </tr>\n",
       "    <tr>\n",
       "      <th>1048572</th>\n",
       "      <td>5150487</td>\n",
       "      <td>-27</td>\n",
       "      <td>C</td>\n",
       "    </tr>\n",
       "    <tr>\n",
       "      <th>1048573</th>\n",
       "      <td>5150487</td>\n",
       "      <td>-28</td>\n",
       "      <td>C</td>\n",
       "    </tr>\n",
       "    <tr>\n",
       "      <th>1048574</th>\n",
       "      <td>5150487</td>\n",
       "      <td>-29</td>\n",
       "      <td>C</td>\n",
       "    </tr>\n",
       "  </tbody>\n",
       "</table>\n",
       "<p>1048575 rows × 3 columns</p>\n",
       "</div>"
      ],
      "text/plain": [
       "              ID  MONTHS_BALANCE STATUS\n",
       "0        5001711               0      X\n",
       "1        5001711              -1      0\n",
       "2        5001711              -2      0\n",
       "3        5001711              -3      0\n",
       "4        5001712               0      C\n",
       "...          ...             ...    ...\n",
       "1048570  5150487             -25      C\n",
       "1048571  5150487             -26      C\n",
       "1048572  5150487             -27      C\n",
       "1048573  5150487             -28      C\n",
       "1048574  5150487             -29      C\n",
       "\n",
       "[1048575 rows x 3 columns]"
      ]
     },
     "execution_count": 2,
     "metadata": {},
     "output_type": "execute_result"
    }
   ],
   "source": [
    "H=pd.read_csv('summary_credit_history.csv')\n",
    "H"
   ]
  },
  {
   "cell_type": "code",
   "execution_count": 3,
   "id": "20758a9a-d987-4e35-a9be-a3ff5bc3a95f",
   "metadata": {},
   "outputs": [
    {
     "data": {
      "text/plain": [
       "True"
      ]
     },
     "execution_count": 3,
     "metadata": {},
     "output_type": "execute_result"
    }
   ],
   "source": [
    "H.groupby('ID')['MONTHS_BALANCE'].is_monotonic_decreasing.all()"
   ]
  },
  {
   "cell_type": "markdown",
   "id": "269301ca-d1c6-40d0-85f3-d83cd09d19f9",
   "metadata": {
    "tags": []
   },
   "source": [
    "## Remove client with only X (no loan) status\n",
    "\n",
    "- there are about 10% clients who never had loans during all months\n",
    "- this analysis removes such clients since there are no supervising information\n",
    "- although it is unclear why such clients are included in the credit hisotry file\n",
    "- this step might be changed if we know more data details"
   ]
  },
  {
   "cell_type": "code",
   "execution_count": 4,
   "id": "099363a6-0770-4895-95e8-cb5b6454bb43",
   "metadata": {},
   "outputs": [
    {
     "data": {
      "text/plain": [
       "((45985, 8), 4536)"
      ]
     },
     "execution_count": 4,
     "metadata": {},
     "output_type": "execute_result"
    }
   ],
   "source": [
    "C=H.groupby('ID')['STATUS'].value_counts().unstack(fill_value=0)\n",
    "ID_NoLoan=C.index[C.sum(axis=1)==C['X']]\n",
    "C.shape, len(ID_NoLoan)"
   ]
  },
  {
   "cell_type": "code",
   "execution_count": 5,
   "id": "ae2d8b28-5eb9-4199-b7b3-2c2391e0917e",
   "metadata": {},
   "outputs": [
    {
     "data": {
      "text/html": [
       "<div>\n",
       "<style scoped>\n",
       "    .dataframe tbody tr th:only-of-type {\n",
       "        vertical-align: middle;\n",
       "    }\n",
       "\n",
       "    .dataframe tbody tr th {\n",
       "        vertical-align: top;\n",
       "    }\n",
       "\n",
       "    .dataframe thead th {\n",
       "        text-align: right;\n",
       "    }\n",
       "</style>\n",
       "<table border=\"1\" class=\"dataframe\">\n",
       "  <thead>\n",
       "    <tr style=\"text-align: right;\">\n",
       "      <th></th>\n",
       "      <th>ID</th>\n",
       "      <th>MONTHS_BALANCE</th>\n",
       "      <th>STATUS</th>\n",
       "    </tr>\n",
       "  </thead>\n",
       "  <tbody>\n",
       "    <tr>\n",
       "      <th>0</th>\n",
       "      <td>5001711</td>\n",
       "      <td>0</td>\n",
       "      <td>X</td>\n",
       "    </tr>\n",
       "    <tr>\n",
       "      <th>1</th>\n",
       "      <td>5001711</td>\n",
       "      <td>-1</td>\n",
       "      <td>0</td>\n",
       "    </tr>\n",
       "    <tr>\n",
       "      <th>2</th>\n",
       "      <td>5001711</td>\n",
       "      <td>-2</td>\n",
       "      <td>0</td>\n",
       "    </tr>\n",
       "    <tr>\n",
       "      <th>3</th>\n",
       "      <td>5001711</td>\n",
       "      <td>-3</td>\n",
       "      <td>0</td>\n",
       "    </tr>\n",
       "    <tr>\n",
       "      <th>4</th>\n",
       "      <td>5001712</td>\n",
       "      <td>0</td>\n",
       "      <td>C</td>\n",
       "    </tr>\n",
       "    <tr>\n",
       "      <th>...</th>\n",
       "      <td>...</td>\n",
       "      <td>...</td>\n",
       "      <td>...</td>\n",
       "    </tr>\n",
       "    <tr>\n",
       "      <th>1048570</th>\n",
       "      <td>5150487</td>\n",
       "      <td>-25</td>\n",
       "      <td>C</td>\n",
       "    </tr>\n",
       "    <tr>\n",
       "      <th>1048571</th>\n",
       "      <td>5150487</td>\n",
       "      <td>-26</td>\n",
       "      <td>C</td>\n",
       "    </tr>\n",
       "    <tr>\n",
       "      <th>1048572</th>\n",
       "      <td>5150487</td>\n",
       "      <td>-27</td>\n",
       "      <td>C</td>\n",
       "    </tr>\n",
       "    <tr>\n",
       "      <th>1048573</th>\n",
       "      <td>5150487</td>\n",
       "      <td>-28</td>\n",
       "      <td>C</td>\n",
       "    </tr>\n",
       "    <tr>\n",
       "      <th>1048574</th>\n",
       "      <td>5150487</td>\n",
       "      <td>-29</td>\n",
       "      <td>C</td>\n",
       "    </tr>\n",
       "  </tbody>\n",
       "</table>\n",
       "<p>947052 rows × 3 columns</p>\n",
       "</div>"
      ],
      "text/plain": [
       "              ID  MONTHS_BALANCE STATUS\n",
       "0        5001711               0      X\n",
       "1        5001711              -1      0\n",
       "2        5001711              -2      0\n",
       "3        5001711              -3      0\n",
       "4        5001712               0      C\n",
       "...          ...             ...    ...\n",
       "1048570  5150487             -25      C\n",
       "1048571  5150487             -26      C\n",
       "1048572  5150487             -27      C\n",
       "1048573  5150487             -28      C\n",
       "1048574  5150487             -29      C\n",
       "\n",
       "[947052 rows x 3 columns]"
      ]
     },
     "execution_count": 5,
     "metadata": {},
     "output_type": "execute_result"
    }
   ],
   "source": [
    "H=H[~H['ID'].isin(ID_NoLoan)]\n",
    "H"
   ]
  },
  {
   "cell_type": "markdown",
   "id": "58282acc-eed6-4fcf-8b9d-0552780ed035",
   "metadata": {},
   "source": [
    "## How many clients always pay off every month?\n",
    "\n",
    "- there are only 1417/41449 perfect clients\n",
    "- this rate might be better for a fixed period, e.g., the last couple of months"
   ]
  },
  {
   "cell_type": "code",
   "execution_count": 6,
   "id": "2e693090-2fcc-4d22-baa7-0526344d222f",
   "metadata": {},
   "outputs": [
    {
     "data": {
      "text/plain": [
       "((41449, 8), 1417)"
      ]
     },
     "execution_count": 6,
     "metadata": {},
     "output_type": "execute_result"
    }
   ],
   "source": [
    "C=H.groupby('ID')['STATUS'].value_counts().unstack(fill_value=0)\n",
    "ID_perfect=C.index[C.sum(axis=1)==C[['C','X']].sum(axis=1)]\n",
    "C.shape, len(ID_perfect)"
   ]
  },
  {
   "cell_type": "markdown",
   "id": "87ada3a1-94a8-4f62-8f67-6071682e1bc5",
   "metadata": {},
   "source": [
    "## How many clients always pay off within one or two months past due?\n",
    "\n",
    "- unlike perfect clients, there are many good clients: 87% past due only one month, 98% past due at most two months\n",
    "- in other words, very few clients have long past due payments\n",
    "- again these rates might be better for some periods"
   ]
  },
  {
   "cell_type": "code",
   "execution_count": 7,
   "id": "ab6ba686-73c1-4e0c-bc4f-3de507cb5f26",
   "metadata": {},
   "outputs": [
    {
     "data": {
      "text/plain": [
       "((41449, 8), 36099)"
      ]
     },
     "execution_count": 7,
     "metadata": {},
     "output_type": "execute_result"
    }
   ],
   "source": [
    "C=H.groupby('ID')['STATUS'].value_counts().unstack(fill_value=0)\n",
    "ID_Good=C.index[C[['1','2','3','4','5']].sum(axis=1)==0]\n",
    "C.shape, len(ID_Good)"
   ]
  },
  {
   "cell_type": "code",
   "execution_count": 8,
   "id": "4e45d7d4-d89f-46c1-8662-680b98ce9c81",
   "metadata": {},
   "outputs": [
    {
     "data": {
      "text/plain": [
       "((41449, 8), 40782)"
      ]
     },
     "execution_count": 8,
     "metadata": {},
     "output_type": "execute_result"
    }
   ],
   "source": [
    "C=H.groupby('ID')['STATUS'].value_counts().unstack(fill_value=0)\n",
    "ID_Good=C.index[C[['2','3','4','5']].sum(axis=1)==0]\n",
    "C.shape, len(ID_Good)"
   ]
  },
  {
   "cell_type": "markdown",
   "id": "2a2846d8-1004-45dd-93ef-ea89f14103f4",
   "metadata": {
    "tags": []
   },
   "source": [
    "# Descriptive Analytics"
   ]
  },
  {
   "cell_type": "markdown",
   "id": "ceef4d7c-e7a8-4835-993f-0315ee6b1760",
   "metadata": {
    "tags": []
   },
   "source": [
    "## Counts\n",
    "\n",
    "- this section checks the value counts of all columns\n",
    "- the purpose is to identify any obvious issues\n",
    "- status:\n",
    "    - 0: 1-29 days past due\n",
    "    - 1: 30-59 days past due\n",
    "    - 2: 60-89 days overdue\n",
    "    - 3: 90-119 days overdue\n",
    "    - 4: 120-149 days overdue\n",
    "    - 5: Overdue or bad debts, write-offs for more than 150 days"
   ]
  },
  {
   "cell_type": "code",
   "execution_count": 9,
   "id": "0b4c4a64-8db0-47ed-902e-1d1e13f0c0ac",
   "metadata": {},
   "outputs": [
    {
     "data": {
      "text/plain": [
       "5078802    61\n",
       "5059854    61\n",
       "5060198    61\n",
       "5017911    61\n",
       "5120092    61\n",
       "           ..\n",
       "5088722     1\n",
       "5096514     1\n",
       "5025928     1\n",
       "5010859     1\n",
       "5116447     1\n",
       "Name: ID, Length: 41449, dtype: int64"
      ]
     },
     "execution_count": 9,
     "metadata": {},
     "output_type": "execute_result"
    }
   ],
   "source": [
    "H['ID'].value_counts()"
   ]
  },
  {
   "cell_type": "code",
   "execution_count": 10,
   "id": "ca08449d-a425-4093-8f39-7f0aaacda2c2",
   "metadata": {},
   "outputs": [
    {
     "data": {
      "text/plain": [
       "-1     30703\n",
       "-2     30556\n",
       "-3     30282\n",
       " 0     30239\n",
       "-4     29880\n",
       "       ...  \n",
       "-56     1954\n",
       "-57     1538\n",
       "-58     1175\n",
       "-59      777\n",
       "-60      394\n",
       "Name: MONTHS_BALANCE, Length: 61, dtype: int64"
      ]
     },
     "execution_count": 10,
     "metadata": {},
     "output_type": "execute_result"
    }
   ],
   "source": [
    "H['MONTHS_BALANCE'].value_counts()"
   ]
  },
  {
   "cell_type": "code",
   "execution_count": 11,
   "id": "7ae324c1-f72e-4677-b78b-a225747e8edf",
   "metadata": {},
   "outputs": [
    {
     "data": {
      "text/plain": [
       "C    442031\n",
       "0    383120\n",
       "X    107707\n",
       "1     11090\n",
       "5      1693\n",
       "2       868\n",
       "3       320\n",
       "4       223\n",
       "Name: STATUS, dtype: int64"
      ]
     },
     "execution_count": 11,
     "metadata": {},
     "output_type": "execute_result"
    }
   ],
   "source": [
    "H['STATUS'].value_counts()"
   ]
  },
  {
   "cell_type": "markdown",
   "id": "7d1b5d7e-ed56-4aef-aa3b-d11b1a711067",
   "metadata": {
    "tags": []
   },
   "source": [
    "## Case Example\n",
    "\n",
    "- this section checks two client cases\n",
    "- one client has the most records\n",
    "- one client has the fewest records"
   ]
  },
  {
   "cell_type": "code",
   "execution_count": 12,
   "id": "c6af1753-1c84-41dc-852a-50aca3f24c9e",
   "metadata": {},
   "outputs": [
    {
     "data": {
      "text/plain": [
       "0    20\n",
       "5    17\n",
       "C    11\n",
       "1     9\n",
       "2     2\n",
       "4     1\n",
       "3     1\n",
       "X     1\n",
       "Name: STATUS, dtype: int64"
      ]
     },
     "execution_count": 12,
     "metadata": {},
     "output_type": "execute_result"
    }
   ],
   "source": [
    "h=H.query('ID in (5078802, 5116447)')\n",
    "h['STATUS'].value_counts()"
   ]
  },
  {
   "cell_type": "code",
   "execution_count": 13,
   "id": "d49934cb-9415-441a-853e-59c75e64493d",
   "metadata": {
    "tags": []
   },
   "outputs": [
    {
     "data": {
      "text/html": [
       "<table border=\"1\" class=\"dataframe\">\n",
       "  <thead>\n",
       "    <tr style=\"text-align: right;\">\n",
       "      <th></th>\n",
       "      <th>ID</th>\n",
       "      <th>MONTHS_BALANCE</th>\n",
       "      <th>STATUS</th>\n",
       "    </tr>\n",
       "  </thead>\n",
       "  <tbody>\n",
       "    <tr>\n",
       "      <th>609443</th>\n",
       "      <td>5078802</td>\n",
       "      <td>0</td>\n",
       "      <td>C</td>\n",
       "    </tr>\n",
       "    <tr>\n",
       "      <th>609444</th>\n",
       "      <td>5078802</td>\n",
       "      <td>-1</td>\n",
       "      <td>C</td>\n",
       "    </tr>\n",
       "    <tr>\n",
       "      <th>609445</th>\n",
       "      <td>5078802</td>\n",
       "      <td>-2</td>\n",
       "      <td>C</td>\n",
       "    </tr>\n",
       "    <tr>\n",
       "      <th>609446</th>\n",
       "      <td>5078802</td>\n",
       "      <td>-3</td>\n",
       "      <td>C</td>\n",
       "    </tr>\n",
       "    <tr>\n",
       "      <th>609447</th>\n",
       "      <td>5078802</td>\n",
       "      <td>-4</td>\n",
       "      <td>C</td>\n",
       "    </tr>\n",
       "    <tr>\n",
       "      <th>609448</th>\n",
       "      <td>5078802</td>\n",
       "      <td>-5</td>\n",
       "      <td>C</td>\n",
       "    </tr>\n",
       "    <tr>\n",
       "      <th>609449</th>\n",
       "      <td>5078802</td>\n",
       "      <td>-6</td>\n",
       "      <td>C</td>\n",
       "    </tr>\n",
       "    <tr>\n",
       "      <th>609450</th>\n",
       "      <td>5078802</td>\n",
       "      <td>-7</td>\n",
       "      <td>C</td>\n",
       "    </tr>\n",
       "    <tr>\n",
       "      <th>609451</th>\n",
       "      <td>5078802</td>\n",
       "      <td>-8</td>\n",
       "      <td>C</td>\n",
       "    </tr>\n",
       "    <tr>\n",
       "      <th>609452</th>\n",
       "      <td>5078802</td>\n",
       "      <td>-9</td>\n",
       "      <td>C</td>\n",
       "    </tr>\n",
       "    <tr>\n",
       "      <th>609453</th>\n",
       "      <td>5078802</td>\n",
       "      <td>-10</td>\n",
       "      <td>C</td>\n",
       "    </tr>\n",
       "    <tr>\n",
       "      <th>609454</th>\n",
       "      <td>5078802</td>\n",
       "      <td>-11</td>\n",
       "      <td>5</td>\n",
       "    </tr>\n",
       "    <tr>\n",
       "      <th>609455</th>\n",
       "      <td>5078802</td>\n",
       "      <td>-12</td>\n",
       "      <td>5</td>\n",
       "    </tr>\n",
       "    <tr>\n",
       "      <th>609456</th>\n",
       "      <td>5078802</td>\n",
       "      <td>-13</td>\n",
       "      <td>5</td>\n",
       "    </tr>\n",
       "    <tr>\n",
       "      <th>609457</th>\n",
       "      <td>5078802</td>\n",
       "      <td>-14</td>\n",
       "      <td>5</td>\n",
       "    </tr>\n",
       "    <tr>\n",
       "      <th>609458</th>\n",
       "      <td>5078802</td>\n",
       "      <td>-15</td>\n",
       "      <td>5</td>\n",
       "    </tr>\n",
       "    <tr>\n",
       "      <th>609459</th>\n",
       "      <td>5078802</td>\n",
       "      <td>-16</td>\n",
       "      <td>5</td>\n",
       "    </tr>\n",
       "    <tr>\n",
       "      <th>609460</th>\n",
       "      <td>5078802</td>\n",
       "      <td>-17</td>\n",
       "      <td>5</td>\n",
       "    </tr>\n",
       "    <tr>\n",
       "      <th>609461</th>\n",
       "      <td>5078802</td>\n",
       "      <td>-18</td>\n",
       "      <td>5</td>\n",
       "    </tr>\n",
       "    <tr>\n",
       "      <th>609462</th>\n",
       "      <td>5078802</td>\n",
       "      <td>-19</td>\n",
       "      <td>5</td>\n",
       "    </tr>\n",
       "    <tr>\n",
       "      <th>609463</th>\n",
       "      <td>5078802</td>\n",
       "      <td>-20</td>\n",
       "      <td>5</td>\n",
       "    </tr>\n",
       "    <tr>\n",
       "      <th>609464</th>\n",
       "      <td>5078802</td>\n",
       "      <td>-21</td>\n",
       "      <td>5</td>\n",
       "    </tr>\n",
       "    <tr>\n",
       "      <th>609465</th>\n",
       "      <td>5078802</td>\n",
       "      <td>-22</td>\n",
       "      <td>5</td>\n",
       "    </tr>\n",
       "    <tr>\n",
       "      <th>609466</th>\n",
       "      <td>5078802</td>\n",
       "      <td>-23</td>\n",
       "      <td>5</td>\n",
       "    </tr>\n",
       "    <tr>\n",
       "      <th>609467</th>\n",
       "      <td>5078802</td>\n",
       "      <td>-24</td>\n",
       "      <td>5</td>\n",
       "    </tr>\n",
       "    <tr>\n",
       "      <th>609468</th>\n",
       "      <td>5078802</td>\n",
       "      <td>-25</td>\n",
       "      <td>5</td>\n",
       "    </tr>\n",
       "    <tr>\n",
       "      <th>609469</th>\n",
       "      <td>5078802</td>\n",
       "      <td>-26</td>\n",
       "      <td>5</td>\n",
       "    </tr>\n",
       "    <tr>\n",
       "      <th>609470</th>\n",
       "      <td>5078802</td>\n",
       "      <td>-27</td>\n",
       "      <td>5</td>\n",
       "    </tr>\n",
       "    <tr>\n",
       "      <th>609471</th>\n",
       "      <td>5078802</td>\n",
       "      <td>-28</td>\n",
       "      <td>4</td>\n",
       "    </tr>\n",
       "    <tr>\n",
       "      <th>609472</th>\n",
       "      <td>5078802</td>\n",
       "      <td>-29</td>\n",
       "      <td>3</td>\n",
       "    </tr>\n",
       "    <tr>\n",
       "      <th>609473</th>\n",
       "      <td>5078802</td>\n",
       "      <td>-30</td>\n",
       "      <td>2</td>\n",
       "    </tr>\n",
       "    <tr>\n",
       "      <th>609474</th>\n",
       "      <td>5078802</td>\n",
       "      <td>-31</td>\n",
       "      <td>2</td>\n",
       "    </tr>\n",
       "    <tr>\n",
       "      <th>609475</th>\n",
       "      <td>5078802</td>\n",
       "      <td>-32</td>\n",
       "      <td>1</td>\n",
       "    </tr>\n",
       "    <tr>\n",
       "      <th>609476</th>\n",
       "      <td>5078802</td>\n",
       "      <td>-33</td>\n",
       "      <td>0</td>\n",
       "    </tr>\n",
       "    <tr>\n",
       "      <th>609477</th>\n",
       "      <td>5078802</td>\n",
       "      <td>-34</td>\n",
       "      <td>0</td>\n",
       "    </tr>\n",
       "    <tr>\n",
       "      <th>609478</th>\n",
       "      <td>5078802</td>\n",
       "      <td>-35</td>\n",
       "      <td>0</td>\n",
       "    </tr>\n",
       "    <tr>\n",
       "      <th>609479</th>\n",
       "      <td>5078802</td>\n",
       "      <td>-36</td>\n",
       "      <td>0</td>\n",
       "    </tr>\n",
       "    <tr>\n",
       "      <th>609480</th>\n",
       "      <td>5078802</td>\n",
       "      <td>-37</td>\n",
       "      <td>1</td>\n",
       "    </tr>\n",
       "    <tr>\n",
       "      <th>609481</th>\n",
       "      <td>5078802</td>\n",
       "      <td>-38</td>\n",
       "      <td>0</td>\n",
       "    </tr>\n",
       "    <tr>\n",
       "      <th>609482</th>\n",
       "      <td>5078802</td>\n",
       "      <td>-39</td>\n",
       "      <td>0</td>\n",
       "    </tr>\n",
       "    <tr>\n",
       "      <th>609483</th>\n",
       "      <td>5078802</td>\n",
       "      <td>-40</td>\n",
       "      <td>1</td>\n",
       "    </tr>\n",
       "    <tr>\n",
       "      <th>609484</th>\n",
       "      <td>5078802</td>\n",
       "      <td>-41</td>\n",
       "      <td>1</td>\n",
       "    </tr>\n",
       "    <tr>\n",
       "      <th>609485</th>\n",
       "      <td>5078802</td>\n",
       "      <td>-42</td>\n",
       "      <td>1</td>\n",
       "    </tr>\n",
       "    <tr>\n",
       "      <th>609486</th>\n",
       "      <td>5078802</td>\n",
       "      <td>-43</td>\n",
       "      <td>1</td>\n",
       "    </tr>\n",
       "    <tr>\n",
       "      <th>609487</th>\n",
       "      <td>5078802</td>\n",
       "      <td>-44</td>\n",
       "      <td>0</td>\n",
       "    </tr>\n",
       "    <tr>\n",
       "      <th>609488</th>\n",
       "      <td>5078802</td>\n",
       "      <td>-45</td>\n",
       "      <td>0</td>\n",
       "    </tr>\n",
       "    <tr>\n",
       "      <th>609489</th>\n",
       "      <td>5078802</td>\n",
       "      <td>-46</td>\n",
       "      <td>0</td>\n",
       "    </tr>\n",
       "    <tr>\n",
       "      <th>609490</th>\n",
       "      <td>5078802</td>\n",
       "      <td>-47</td>\n",
       "      <td>0</td>\n",
       "    </tr>\n",
       "    <tr>\n",
       "      <th>609491</th>\n",
       "      <td>5078802</td>\n",
       "      <td>-48</td>\n",
       "      <td>0</td>\n",
       "    </tr>\n",
       "    <tr>\n",
       "      <th>609492</th>\n",
       "      <td>5078802</td>\n",
       "      <td>-49</td>\n",
       "      <td>1</td>\n",
       "    </tr>\n",
       "    <tr>\n",
       "      <th>609493</th>\n",
       "      <td>5078802</td>\n",
       "      <td>-50</td>\n",
       "      <td>1</td>\n",
       "    </tr>\n",
       "    <tr>\n",
       "      <th>609494</th>\n",
       "      <td>5078802</td>\n",
       "      <td>-51</td>\n",
       "      <td>1</td>\n",
       "    </tr>\n",
       "    <tr>\n",
       "      <th>609495</th>\n",
       "      <td>5078802</td>\n",
       "      <td>-52</td>\n",
       "      <td>0</td>\n",
       "    </tr>\n",
       "    <tr>\n",
       "      <th>609496</th>\n",
       "      <td>5078802</td>\n",
       "      <td>-53</td>\n",
       "      <td>0</td>\n",
       "    </tr>\n",
       "    <tr>\n",
       "      <th>609497</th>\n",
       "      <td>5078802</td>\n",
       "      <td>-54</td>\n",
       "      <td>0</td>\n",
       "    </tr>\n",
       "    <tr>\n",
       "      <th>609498</th>\n",
       "      <td>5078802</td>\n",
       "      <td>-55</td>\n",
       "      <td>0</td>\n",
       "    </tr>\n",
       "    <tr>\n",
       "      <th>609499</th>\n",
       "      <td>5078802</td>\n",
       "      <td>-56</td>\n",
       "      <td>0</td>\n",
       "    </tr>\n",
       "    <tr>\n",
       "      <th>609500</th>\n",
       "      <td>5078802</td>\n",
       "      <td>-57</td>\n",
       "      <td>0</td>\n",
       "    </tr>\n",
       "    <tr>\n",
       "      <th>609501</th>\n",
       "      <td>5078802</td>\n",
       "      <td>-58</td>\n",
       "      <td>0</td>\n",
       "    </tr>\n",
       "    <tr>\n",
       "      <th>609502</th>\n",
       "      <td>5078802</td>\n",
       "      <td>-59</td>\n",
       "      <td>0</td>\n",
       "    </tr>\n",
       "    <tr>\n",
       "      <th>609503</th>\n",
       "      <td>5078802</td>\n",
       "      <td>-60</td>\n",
       "      <td>X</td>\n",
       "    </tr>\n",
       "    <tr>\n",
       "      <th>817463</th>\n",
       "      <td>5116447</td>\n",
       "      <td>0</td>\n",
       "      <td>0</td>\n",
       "    </tr>\n",
       "  </tbody>\n",
       "</table>"
      ],
      "text/plain": [
       "<IPython.core.display.HTML object>"
      ]
     },
     "execution_count": 13,
     "metadata": {},
     "output_type": "execute_result"
    }
   ],
   "source": [
    "display.HTML(h.to_html()) # so all rows are displayed for inspection"
   ]
  },
  {
   "cell_type": "markdown",
   "id": "d282c492-9539-4f20-9780-c72b5b2f0b1e",
   "metadata": {},
   "source": [
    "## Dependency\n",
    "\n",
    "- is there temporal dependency between default rate?\n",
    "- for each month and all clients, the for loop checks the correlation beteween default in the `PREVIOUS` and `NEXT` several months.\n",
    "- according to the plot, the conditional probability $\\Pr(\\text{default}_\\text{soon}|\\text{default}_\\text{recently})$ is consitently higher than 0.8.\n",
    "- for the first several months, the conditional probability is even higher, possibly due to limited data.\n",
    "- the results suggest that feature engineering with credit history might improve dynamic models."
   ]
  },
  {
   "cell_type": "code",
   "execution_count": 14,
   "id": "8abdcd5b-1a16-4446-9c6a-00e58a8d5cc3",
   "metadata": {},
   "outputs": [
    {
     "data": {
      "text/plain": [
       "(-60, 0)"
      ]
     },
     "execution_count": 14,
     "metadata": {},
     "output_type": "execute_result"
    }
   ],
   "source": [
    "first_month=H['MONTHS_BALANCE'].min()\n",
    "last_month=H['MONTHS_BALANCE'].max()\n",
    "first_month, last_month"
   ]
  },
  {
   "cell_type": "code",
   "execution_count": 15,
   "id": "826ed583-8e99-4d23-ad19-e26a8c2308db",
   "metadata": {},
   "outputs": [
    {
     "data": {
      "text/plain": [
       "<AxesSubplot:>"
      ]
     },
     "execution_count": 15,
     "metadata": {},
     "output_type": "execute_result"
    },
    {
     "data": {
      "image/png": "[encoded data removed]",
      "text/plain": [
       "<Figure size 432x288 with 1 Axes>"
      ]
     },
     "metadata": {
      "needs_background": "light"
     },
     "output_type": "display_data"
    }
   ],
   "source": [
    "R={}\n",
    "for m in range(first_month+2, last_month-2):\n",
    "    before=H[H['MONTHS_BALANCE'].between(m-2, m)]\n",
    "    after=H[H['MONTHS_BALANCE'].between(m+1, m+3)]\n",
    "    before_counts=before.groupby('ID')['STATUS'].value_counts().unstack(fill_value=0)\n",
    "    after_counts=after.groupby('ID')['STATUS'].value_counts().unstack(fill_value=0)\n",
    "    ID=before_counts.index.intersection(after_counts.index)\n",
    "    before_default=before_counts.loc[ID, before_counts.columns.intersection(['0','1','2','3','4','5'])].sum(axis=1)>0\n",
    "    after_default=after_counts.loc[ID, after_counts.columns.intersection(['0','1','2','3','4','5'])].sum(axis=1)>0\n",
    "    R[m]=(before_default & after_default).sum() / before_default.sum()\n",
    "R=pd.Series(R)\n",
    "R.plot()"
   ]
  },
  {
   "cell_type": "markdown",
   "id": "e061926c-9672-4ca0-9014-f71fad4361d5",
   "metadata": {},
   "source": [
    "# API\n",
    "\n",
    "The function API.get_labels() will be used for further analysis"
   ]
  },
  {
   "cell_type": "code",
   "execution_count": 16,
   "id": "da382495-9018-4894-832f-4ee2daaedd61",
   "metadata": {},
   "outputs": [
    {
     "data": {
      "text/plain": [
       "0    36099\n",
       "1     5350\n",
       "Name: label, dtype: int64"
      ]
     },
     "execution_count": 16,
     "metadata": {},
     "output_type": "execute_result"
    }
   ],
   "source": [
    "import API\n",
    "labels=API.get_labels(['1','2','3','4','5'])\n",
    "labels.value_counts()"
   ]
  },
  {
   "cell_type": "code",
   "execution_count": 17,
   "id": "0e4ee3e0-2d83-4f3e-b2c7-dfa85b10778c",
   "metadata": {},
   "outputs": [
    {
     "data": {
      "text/plain": [
       "1    40032\n",
       "0     1417\n",
       "Name: label, dtype: int64"
      ]
     },
     "execution_count": 17,
     "metadata": {},
     "output_type": "execute_result"
    }
   ],
   "source": [
    "API.get_labels(list('012345')).value_counts()"
   ]
  },
  {
   "cell_type": "code",
   "execution_count": 18,
   "id": "34bc208e-6f0a-40e0-b143-972fb1ff8a66",
   "metadata": {},
   "outputs": [
    {
     "data": {
      "text/plain": [
       "0    40782\n",
       "1      667\n",
       "Name: label, dtype: int64"
      ]
     },
     "execution_count": 18,
     "metadata": {},
     "output_type": "execute_result"
    }
   ],
   "source": [
    "API.get_labels(list('2345')).value_counts()"
   ]
  }
 ],
 "metadata": {
  "kernelspec": {
   "display_name": "Python 3",
   "language": "python",
   "name": "python3"
  },
  "language_info": {
   "codemirror_mode": {
    "name": "ipython",
    "version": 3
   },
   "file_extension": ".py",
   "mimetype": "text/x-python",
   "name": "python",
   "nbconvert_exporter": "python",
   "pygments_lexer": "ipython3",
   "version": "3.7.3"
  }
 },
 "nbformat": 4,
 "nbformat_minor": 5
}
